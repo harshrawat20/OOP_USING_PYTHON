{
  "nbformat": 4,
  "nbformat_minor": 0,
  "metadata": {
    "kernelspec": {
      "name": "python3",
      "display_name": "Python 3.9.4 64-bit"
    },
    "language_info": {
      "codemirror_mode": {
        "name": "ipython",
        "version": 3
      },
      "file_extension": ".py",
      "mimetype": "text/x-python",
      "name": "python",
      "nbconvert_exporter": "python",
      "pygments_lexer": "ipython3",
      "version": "3.9.4"
    },
    "interpreter": {
      "hash": "558802ee62ad00077b1e13aabce3970070a978d35856ddf482faf180fa7e2679"
    },
    "colab": {
      "name": " Python-Quiz1.ipynb",
      "provenance": [],
      "collapsed_sections": [],
      "include_colab_link": true
    }
  },
  "cells": [
    {
      "cell_type": "markdown",
      "metadata": {
        "id": "view-in-github",
        "colab_type": "text"
      },
      "source": [
        "<a href=\"https://colab.research.google.com/github/harshrawat20/OOP_USING_PYTHON/blob/main/Python_Quiz1.ipynb\" target=\"_parent\"><img src=\"https://colab.research.google.com/assets/colab-badge.svg\" alt=\"Open In Colab\"/></a>"
      ]
    },
    {
      "cell_type": "markdown",
      "metadata": {
        "id": "zmjA6_PVew_W"
      },
      "source": [
        "[![Open In Colab](https://colab.research.google.com/assets/colab-badge.svg)](https://colab.research.google.com/github/siddhantdixit/OOP-ClassWork/blob/main/Python-Quiz1.ipynb)\n",
        "\n",
        "\n",
        "# Python Quiz 1"
      ]
    },
    {
      "cell_type": "markdown",
      "metadata": {
        "id": "zKXXpt_Tew_d"
      },
      "source": [
        "## A. Primitive Types\n",
        "\n",
        "<br>\n",
        "\n",
        "> **1. What is a variable?**\n",
        "\n",
        "Variables are the names you assign to the memory locations in a computer programme that are used to hold values."
      ]
    },
    {
      "cell_type": "code",
      "metadata": {
        "id": "Cql32eXxew_f",
        "colab": {
          "base_uri": "https://localhost:8080/"
        },
        "outputId": "6704ec84-5ffe-4b65-86e2-a093d39ebedc"
      },
      "source": [
        "x = 5\n",
        "print(x)"
      ],
      "execution_count": 1,
      "outputs": [
        {
          "output_type": "stream",
          "text": [
            "5\n"
          ],
          "name": "stdout"
        }
      ]
    },
    {
      "cell_type": "markdown",
      "metadata": {
        "id": "mteBxAQfew_j"
      },
      "source": [
        "> **2. What are the primitive built-in types in Python?**\n",
        "\n",
        "Python has 4 primitive types: integers, floats, booleans and strings."
      ]
    },
    {
      "cell_type": "code",
      "metadata": {
        "id": "8mmPCAEUew_k",
        "colab": {
          "base_uri": "https://localhost:8080/"
        },
        "outputId": "a33771eb-fad6-44f1-cffb-9374addb1012"
      },
      "source": [
        "a = 123\n",
        "b = 3.4\n",
        "c = False\n",
        "d = \"Harsh\"\n",
        "print(a,type(a))\n",
        "print(b,type(b))\n",
        "print(c,type(c))\n",
        "print(d,type(d))"
      ],
      "execution_count": 2,
      "outputs": [
        {
          "output_type": "stream",
          "text": [
            "123 <class 'int'>\n",
            "3.4 <class 'float'>\n",
            "False <class 'bool'>\n",
            "siddhant <class 'str'>\n"
          ],
          "name": "stdout"
        }
      ]
    },
    {
      "cell_type": "markdown",
      "metadata": {
        "id": "vRLczO5oew_l"
      },
      "source": [
        "> **3. When should we use “”” (tripe quotes) to define strings?**"
      ]
    },
    {
      "cell_type": "code",
      "metadata": {
        "id": "EZCzKXTrew_m"
      },
      "source": [
        "When our string contains a double quote within itself."
      ],
      "execution_count": 2,
      "outputs": []
    },
    {
      "cell_type": "markdown",
      "metadata": {
        "id": "-T02QyUBew_n"
      },
      "source": [
        "> **4. Assuming (name = “Ananda Vihar”), what does name[1] return?**\n",
        "\n",
        "'n' at index 1"
      ]
    },
    {
      "cell_type": "code",
      "metadata": {
        "id": "l8pQEQp6ew_o",
        "outputId": "ad3bdbfd-19d9-4b40-dbed-5e8d87b0fe1f"
      },
      "source": [
        "name = \"Ananda Vihar\"\n",
        "print(name[1])"
      ],
      "execution_count": null,
      "outputs": [
        {
          "output_type": "stream",
          "name": "stdout",
          "text": [
            "n\n"
          ]
        }
      ]
    },
    {
      "cell_type": "markdown",
      "metadata": {
        "id": "e5HLK5ASew_q"
      },
      "source": [
        "> **5. What about name[-2]?**\n",
        "\n",
        "name[-2] will return character at second index from last\n",
        "i.e 'a' "
      ]
    },
    {
      "cell_type": "code",
      "metadata": {
        "id": "AMOaYUGUew_s",
        "outputId": "a558b963-1978-4cd7-bc0d-adc2c98aabcf"
      },
      "source": [
        "print(name[-2])"
      ],
      "execution_count": null,
      "outputs": [
        {
          "output_type": "stream",
          "name": "stdout",
          "text": [
            "a\n"
          ]
        }
      ]
    },
    {
      "cell_type": "markdown",
      "metadata": {
        "id": "M4vEqqEuew_t"
      },
      "source": [
        "> **6. What about name[1:-1]?**\n",
        "\n",
        "It will return substring starting from index 1 i.e n to the last index but (excluding the last index)."
      ]
    },
    {
      "cell_type": "code",
      "metadata": {
        "id": "Jouq7GVZew_v",
        "outputId": "86dd9a82-4425-42ba-de75-ee67eb5ef719"
      },
      "source": [
        "print(name[1:-1])"
      ],
      "execution_count": null,
      "outputs": [
        {
          "output_type": "stream",
          "name": "stdout",
          "text": [
            "nanda Viha\n"
          ]
        }
      ]
    }
  ]
}